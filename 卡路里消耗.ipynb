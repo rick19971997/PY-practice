{
 "cells": [
  {
   "cell_type": "code",
   "execution_count": null,
   "metadata": {},
   "outputs": [],
   "source": [
    "gender=input('請輸入你的性別ex)woman or man：')\n",
    "height=input('請輸入你的身高(cm)：')\n",
    "weight=input('請輸入你的體重(kg)：')\n",
    "age=input('請輸入你的年齡：')\n",
    "time=input('請輸入你的運動時間(min)：')\n",
    "sport=input('請輸入你的運動：')\n",
    "h=int(height)\n",
    "w=int(weight)\n",
    "a=int(age)\n",
    "t=int(time)\n",
    "if '慢跑' in sport:\n",
    "        f=6\n",
    "elif'騎自行車' in sport:\n",
    "        f=8\n",
    "elif'籃球' in sport:\n",
    "        f=8\n",
    "elif'棒球' in sport:\n",
    "        f=5\n",
    "elif'足球' in sport:\n",
    "        f=9\n",
    "elif'排球' in sport:\n",
    "        f=3\n",
    "\n",
    "\n",
    "if 'man'in gender :\n",
    "        cal= ((((66.5)+(13.75*w)+(5.003*h)-(6.755*a))*f)/24)*t/60\n",
    "        print('你消耗了'+str(cal)+'卡路里')\n",
    "elif 'woman'in gender:\n",
    "        cal = (((655.1+(9.563*w)+(1.85*h)-(4.676*a))*f)/24)*t/60\n",
    "        print('你消耗了'+str(cal)+'卡路里')"
   ]
  },
  {
   "cell_type": "code",
   "execution_count": null,
   "metadata": {},
   "outputs": [],
   "source": []
  }
 ],
 "metadata": {
  "kernelspec": {
   "display_name": "Python 3",
   "language": "python",
   "name": "python3"
  },
  "language_info": {
   "codemirror_mode": {
    "name": "ipython",
    "version": 3
   },
   "file_extension": ".py",
   "mimetype": "text/x-python",
   "name": "python",
   "nbconvert_exporter": "python",
   "pygments_lexer": "ipython3",
   "version": "3.7.3"
  }
 },
 "nbformat": 4,
 "nbformat_minor": 2
}
