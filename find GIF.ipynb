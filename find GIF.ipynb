{
 "cells": [
  {
   "cell_type": "code",
   "execution_count": 3,
   "metadata": {},
   "outputs": [],
   "source": [
    "import os, sys, fnmatch\n",
    "\n",
    "if len(sys.argv) > 1:\n",
    "    dirs = sys.argv[1:]\n",
    "else:\n",
    "    dirs = [ '.' ]\n",
    "\n",
    "\n",
    "while dirs != []:\n",
    "    dir = dirs.pop(0)\n",
    "    if os.path.isdir(dir):\n",
    "        \n",
    "        try:\n",
    "            dirs.extend(map(lambda x: os.path.join(dir, x), os.listdir(dir)))\n",
    "        except PermissionError:\n",
    "            pass\n",
    "    else:\n",
    "        \n",
    "        if fnmatch.fnmatch(dir, '*.png'):\n",
    "            print(dir)"
   ]
  },
  {
   "cell_type": "code",
   "execution_count": null,
   "metadata": {},
   "outputs": [],
   "source": []
  }
 ],
 "metadata": {
  "kernelspec": {
   "display_name": "Python 3",
   "language": "python",
   "name": "python3"
  },
  "language_info": {
   "codemirror_mode": {
    "name": "ipython",
    "version": 3
   },
   "file_extension": ".py",
   "mimetype": "text/x-python",
   "name": "python",
   "nbconvert_exporter": "python",
   "pygments_lexer": "ipython3",
   "version": "3.7.3"
  }
 },
 "nbformat": 4,
 "nbformat_minor": 2
}
