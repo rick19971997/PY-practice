{
 "cells": [
  {
   "cell_type": "code",
   "execution_count": 4,
   "metadata": {},
   "outputs": [
    {
     "name": "stdout",
     "output_type": "stream",
     "text": [
      "You got:\n",
      "10 of Heart\n",
      "4 of Diamond\n",
      "10 of Club\n",
      "7 of Diamond\n",
      "3 of Spade\n"
     ]
    }
   ],
   "source": [
    "# shuffle a deck of card\n",
    "\n",
    "# importing modules\n",
    "import itertools, random\n",
    "\n",
    "# make a deck of cards\n",
    "deck = list(itertools.product(range(1,14),['Spade','Heart','Diamond','Club']))\n",
    "\n",
    "# shuffle the cards\n",
    "random.shuffle(deck)\n",
    "\n",
    "# draw five cards\n",
    "print(\"You got:\")\n",
    "for i in range(5):\n",
    "   print (deck[i][0], \"of\", deck[i][1])"
   ]
  },
  {
   "cell_type": "code",
   "execution_count": null,
   "metadata": {},
   "outputs": [],
   "source": []
  }
 ],
 "metadata": {
  "kernelspec": {
   "display_name": "Python 3",
   "language": "python",
   "name": "python3"
  },
  "language_info": {
   "codemirror_mode": {
    "name": "ipython",
    "version": 3
   },
   "file_extension": ".py",
   "mimetype": "text/x-python",
   "name": "python",
   "nbconvert_exporter": "python",
   "pygments_lexer": "ipython3",
   "version": "3.7.3"
  }
 },
 "nbformat": 4,
 "nbformat_minor": 2
}
