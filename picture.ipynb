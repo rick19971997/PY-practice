{
 "cells": [
  {
   "cell_type": "code",
   "execution_count": 1,
   "metadata": {},
   "outputs": [],
   "source": [
    "import arcade\n",
    "\n",
    "SCREEN_WIDTH = 600\n",
    "SCREEN_HEIGHT = 600\n",
    "SCREEN_TITLE = \"Drawing With Functions Example\"\n",
    "\n",
    "def draw_background():\n",
    "\n",
    "    arcade.draw_lrtb_rectangle_filled(0,\n",
    "                                      SCREEN_WIDTH,\n",
    "                                      SCREEN_HEIGHT,\n",
    "                                      SCREEN_HEIGHT * (1 / 3),\n",
    "                                      arcade.color.SKY_BLUE)\n",
    "\n",
    "    arcade.draw_lrtb_rectangle_filled(0,\n",
    "                                      SCREEN_WIDTH,\n",
    "                                      SCREEN_HEIGHT / 3,\n",
    "                                      0,\n",
    "                                      arcade.color.DARK_SPRING_GREEN)\n",
    "\n",
    "\n",
    "def draw_bird(x, y):\n",
    "\n",
    "    arcade.draw_arc_outline(x, y, 20, 20, arcade.color.BLACK, 0, 90)\n",
    "    arcade.draw_arc_outline(x + 40, y, 20, 20, arcade.color.BLACK, 90, 180)\n",
    "\n",
    "\n",
    "def draw_pine_tree(x, y):\n",
    "\n",
    "    arcade.draw_triangle_filled(x + 40, y,\n",
    "                                x, y - 100,\n",
    "                                x + 80, y - 100,\n",
    "                                arcade.color.DARK_GREEN)\n",
    "\n",
    "    arcade.draw_lrtb_rectangle_filled(x + 30, x + 50, y - 100, y - 140,\n",
    "                                      arcade.color.DARK_BROWN)\n",
    "\n",
    "\n",
    "def main():\n",
    "\n",
    "\n",
    "    arcade.open_window(SCREEN_WIDTH, SCREEN_HEIGHT, SCREEN_TITLE)\n",
    "    arcade.start_render()\n",
    "\n",
    "    draw_background()\n",
    "    draw_pine_tree(50, 250)\n",
    "    draw_pine_tree(350, 320)\n",
    "    draw_bird(70, 500)\n",
    "    draw_bird(470, 550)\n",
    "\n",
    "\n",
    "    arcade.finish_render()\n",
    "    arcade.run()\n",
    "\n",
    "\n",
    "if __name__ == \"__main__\":\n",
    "    main()"
   ]
  },
  {
   "cell_type": "code",
   "execution_count": null,
   "metadata": {},
   "outputs": [],
   "source": []
  }
 ],
 "metadata": {
  "kernelspec": {
   "display_name": "Python 3",
   "language": "python",
   "name": "python3"
  },
  "language_info": {
   "codemirror_mode": {
    "name": "ipython",
    "version": 3
   },
   "file_extension": ".py",
   "mimetype": "text/x-python",
   "name": "python",
   "nbconvert_exporter": "python",
   "pygments_lexer": "ipython3",
   "version": "3.7.3"
  }
 },
 "nbformat": 4,
 "nbformat_minor": 2
}
