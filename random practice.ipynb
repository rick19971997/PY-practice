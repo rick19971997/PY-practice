{
 "cells": [
  {
   "cell_type": "code",
   "execution_count": 1,
   "metadata": {},
   "outputs": [
    {
     "name": "stdout",
     "output_type": "stream",
     "text": [
      "Instantiates a Person object with given name. \n",
      "Anne Dawson\n",
      "Tom Lee\n",
      "Returns the instance variable _firstname. \n",
      "Anne\n",
      "Dawson\n",
      "Tom\n",
      "Lee\n"
     ]
    }
   ],
   "source": [
    "class Person():\n",
    "    '''Instantiates a Person object with given name. '''\n",
    "    def __init__(self, first_name, last_name):\n",
    "        '''Initializes private instance variables _firstname and _lastname. '''\n",
    "        self._firstname = first_name\n",
    "        self._lastname = last_name\n",
    "\n",
    "    def __str__(self):\n",
    "        '''Returns the state of the Person object. '''\n",
    "        return self._firstname + \" \" + self._lastname\n",
    "\n",
    "    def getFirstname(self):   # accessor method\n",
    "        '''Returns the instance variable _firstname. '''\n",
    "        return self._firstname\n",
    "\n",
    "    def getLastname(self):    # accessor method\n",
    "        '''Returns the instance variable _lastname. '''\n",
    "        return self._lastname \n",
    "\n",
    "print(Person.__doc__) # prints the docstring for the class\n",
    "person1 = Person(\"Anne\",\"Dawson\")\n",
    "person2 = Person(\"Tom\",\"Lee\")\n",
    "print(person1)  # calls the __str__ method implicitly on person1 object\n",
    "print(person2)  # calls the __str__ method implicitly on person2 object\n",
    "print(Person.getFirstname.__doc__) # prints the docstring for the getFirstname method\n",
    "print(person1.getFirstname())\n",
    "print(person1.getLastname())\n",
    "print(person2.getFirstname())\n",
    "print(person2.getLastname())"
   ]
  },
  {
   "cell_type": "code",
   "execution_count": null,
   "metadata": {},
   "outputs": [],
   "source": []
  }
 ],
 "metadata": {
  "kernelspec": {
   "display_name": "Python 3",
   "language": "python",
   "name": "python3"
  },
  "language_info": {
   "codemirror_mode": {
    "name": "ipython",
    "version": 3
   },
   "file_extension": ".py",
   "mimetype": "text/x-python",
   "name": "python",
   "nbconvert_exporter": "python",
   "pygments_lexer": "ipython3",
   "version": "3.7.3"
  }
 },
 "nbformat": 4,
 "nbformat_minor": 2
}
